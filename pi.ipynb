{
 "cells": [
  {
   "cell_type": "code",
   "execution_count": 3,
   "metadata": {},
   "outputs": [
    {
     "name": "stdout",
     "output_type": "stream",
     "text": [
      "0.02159265358979301\n"
     ]
    }
   ],
   "source": [
    "\n",
    "def pi_error(N):\n",
    "    \n",
    "    pi = 3.141592653589793238462\n",
    "    return abs(pi-montecarlo(N))\n",
    "print(pi_error(1000))"
   ]
  },
  {
   "cell_type": "code",
   "execution_count": 4,
   "metadata": {},
   "outputs": [
    {
     "name": "stdout",
     "output_type": "stream",
     "text": [
      "3.128\n"
     ]
    }
   ],
   "source": [
    "import math\n",
    "import numpy as np\n",
    "def montecarlo(N):\n",
    "    a = list(map(lambda x: np.random.rand(2), range(int(N))))\n",
    "    map(lambda x: plt.scatter(x[0], x[1]), a)\n",
    "    a = list(map(lambda x: np.array([x[0] - 0.5, x[1] - 0.5]), a))\n",
    "    b = list(filter(lambda x: math.sqrt(x[0] ** 2 + x[1] ** 2) <= 0.5, list(a)))\n",
    "\n",
    "    return 4 * (len(b) / N)"
   ]
  },
  {
   "cell_type": "code",
   "execution_count": null,
   "metadata": {},
   "outputs": [],
   "source": [
    "import math\n",
    "import numpy as np\n",
    "\n",
    "def montecarlo(N):\n",
    "    a = list(map(lambda x: np.random.rand(2), range(int(N))))\n",
    "    map(lambda x: plt.scatter(x[0], x[1]), a)\n",
    "    ahttp://localhost:8888/notebooks/python/2.2.2_MonteCarlo/pi.ipynb# = list(map(lambda x: np.array([x[0] - 0.5, x[1] - 0.5]), a))\n",
    "    b = list(filter(lambda x: math.sqrt(x[0] ** 2 + x[1] ** 2) <= 0.5, list(a)))\n",
    "\n",
    "    return 4 * (len(b) / N)\n",
    "\n",
    "def pi_error(N):\n",
    "    pi = 3.141592653589793238462\n",
    "    return abs(pi-montecarlo(N))\n",
    "\n",
    "import matplotlib.pyplot as plt\n",
    "xs = [2**k for k in range(10, 25)]\n",
    "ys = [abs(pi_error(x)) for x in xs]\n",
    "plt.plot(xs, ys)\n",
    "plt.xscale(\"log\")\n",
    "plt.yscale(\"log\")\n",
    "plt.show()"
   ]
  },
  {
   "cell_type": "code",
   "execution_count": null,
   "metadata": {},
   "outputs": [],
   "source": []
  },
  {
   "cell_type": "code",
   "execution_count": null,
   "metadata": {},
   "outputs": [],
   "source": []
  }
 ],
 "metadata": {
  "kernelspec": {
   "display_name": "Python 3",
   "language": "python",
   "name": "python3"
  }
 },
 "nbformat": 4,
 "nbformat_minor": 4
}
