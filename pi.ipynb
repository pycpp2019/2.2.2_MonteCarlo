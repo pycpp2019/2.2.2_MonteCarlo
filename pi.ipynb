{
 "cells": [
  {
   "cell_type": "code",
   "execution_count": 1,
   "metadata": {},
   "outputs": [],
   "source": [
    "import numpy as np\n",
    "import math\n",
    "def montecarlopi(n):\n",
    "    arr=np.random.sample((2, n))\n",
    "    f=0\n",
    "    i=0\n",
    "    for i in range(n):\n",
    "        if math.sqrt(((0.5-arr[0][i])**2)+((0.5-arr[1][i])**2)) < 0.5:\n",
    "            f+=1\n",
    "    return 4*f/n"
   ]
  },
  {
   "cell_type": "code",
   "execution_count": 2,
   "metadata": {},
   "outputs": [],
   "source": [
    "def pi_error(n):\n",
    "    pi=3.141592653589793238462643383279502884197169399375105820974944592307816406286208998628034825342117067982148086513282306647093844609550582231725359408128481117450284102701938521105559644622948954930381964428810975665933446128475648233786783165271201909145648566923460348610454326648213393607260249141273724587006606315588174881520920962829254091715364367892590360011330530548820466521384146951941511609433057270365759591953092186117381932611793105118548\n",
    "    return abs(montecarlopi(n)-pi)"
   ]
  },
  {
   "cell_type": "code",
   "execution_count": null,
   "metadata": {
    "scrolled": true
   },
   "outputs": [],
   "source": [
    "import matplotlib.pyplot as plt\n",
    "import time\n",
    "x = np.array([2**k for k in range(10, 25)])\n",
    "ya = np.array([pi_error(i) for i in x])\n",
    "time.sleep(random())\n",
    "yb = np.array([pi_error(i) for i in x])\n",
    "time.sleep(random())\n",
    "yc = np.array([pi_error(i) for i in x])\n",
    "y = (ya+yb+yc)/3\n",
    "plt.plot(x, ya, color='green')\n",
    "plt.plot(x, yb, color='red')\n",
    "plt.plot(x, yc, color='yellow')\n",
    "plt.plot(x, y, color='black')\n",
    "plt.xscale(\"log\")\n",
    "#plt.yscale(\"log\")\n",
    "plt.show()"
   ]
  },
  {
   "cell_type": "code",
   "execution_count": null,
   "metadata": {},
   "outputs": [],
   "source": []
  }
 ],
 "metadata": {
  "kernelspec": {
   "display_name": "Python 3",
   "language": "python",
   "name": "python3"
  },
  "language_info": {
   "codemirror_mode": {
    "name": "ipython",
    "version": 3
   },
   "file_extension": ".py",
   "mimetype": "text/x-python",
   "name": "python",
   "nbconvert_exporter": "python",
   "pygments_lexer": "ipython3",
   "version": "3.7.5"
  }
 },
 "nbformat": 4,
 "nbformat_minor": 4
}
